{
 "cells": [
  {
   "cell_type": "code",
   "execution_count": 1,
   "id": "a61b83f4-2973-4aba-905c-3c785da48f64",
   "metadata": {},
   "outputs": [],
   "source": [
    "import pandas as pd\n",
    "import numpy as np\n",
    "import matplotlib.pyplot as plt\n",
    "import seaborn as sns"
   ]
  },
  {
   "cell_type": "code",
   "execution_count": 8,
   "id": "2656b669-aa80-460c-9767-781bc770a745",
   "metadata": {},
   "outputs": [
    {
     "data": {
      "text/html": [
       "<div>\n",
       "<style scoped>\n",
       "    .dataframe tbody tr th:only-of-type {\n",
       "        vertical-align: middle;\n",
       "    }\n",
       "\n",
       "    .dataframe tbody tr th {\n",
       "        vertical-align: top;\n",
       "    }\n",
       "\n",
       "    .dataframe thead th {\n",
       "        text-align: right;\n",
       "    }\n",
       "</style>\n",
       "<table border=\"1\" class=\"dataframe\">\n",
       "  <thead>\n",
       "    <tr style=\"text-align: right;\">\n",
       "      <th></th>\n",
       "      <th>Season Number</th>\n",
       "      <th>Startup Name</th>\n",
       "      <th>Episode Number</th>\n",
       "      <th>Pitch Number</th>\n",
       "      <th>Season Start</th>\n",
       "      <th>Season End</th>\n",
       "      <th>Original Air Date</th>\n",
       "      <th>Episode Title</th>\n",
       "      <th>Anchor</th>\n",
       "      <th>Industry</th>\n",
       "      <th>...</th>\n",
       "      <th>Invested Guest Name</th>\n",
       "      <th>All Guest Names</th>\n",
       "      <th>Namita Present</th>\n",
       "      <th>Vineeta Present</th>\n",
       "      <th>Anupam Present</th>\n",
       "      <th>Aman Present</th>\n",
       "      <th>Peyush Present</th>\n",
       "      <th>Ritesh Present</th>\n",
       "      <th>Amit Present</th>\n",
       "      <th>Guest Present</th>\n",
       "    </tr>\n",
       "  </thead>\n",
       "  <tbody>\n",
       "    <tr>\n",
       "      <th>0</th>\n",
       "      <td>1</td>\n",
       "      <td>BluePineFoods</td>\n",
       "      <td>1</td>\n",
       "      <td>1</td>\n",
       "      <td>20-Dec-21</td>\n",
       "      <td>4-Feb-22</td>\n",
       "      <td>20-Dec-21</td>\n",
       "      <td>Badlegi Business Ki Tasveer</td>\n",
       "      <td>Rannvijay Singh</td>\n",
       "      <td>Food and Beverage</td>\n",
       "      <td>...</td>\n",
       "      <td>Ashneer Grover</td>\n",
       "      <td>Ashneer Grover</td>\n",
       "      <td>1.0</td>\n",
       "      <td>1.0</td>\n",
       "      <td>1.0</td>\n",
       "      <td>1.0</td>\n",
       "      <td>NaN</td>\n",
       "      <td>NaN</td>\n",
       "      <td>NaN</td>\n",
       "      <td>1.0</td>\n",
       "    </tr>\n",
       "    <tr>\n",
       "      <th>1</th>\n",
       "      <td>1</td>\n",
       "      <td>BoozScooters</td>\n",
       "      <td>1</td>\n",
       "      <td>2</td>\n",
       "      <td>20-Dec-21</td>\n",
       "      <td>4-Feb-22</td>\n",
       "      <td>20-Dec-21</td>\n",
       "      <td>Badlegi Business Ki Tasveer</td>\n",
       "      <td>Rannvijay Singh</td>\n",
       "      <td>Vehicles/Electrical Vehicles</td>\n",
       "      <td>...</td>\n",
       "      <td>Ashneer Grover</td>\n",
       "      <td>Ashneer Grover</td>\n",
       "      <td>1.0</td>\n",
       "      <td>1.0</td>\n",
       "      <td>1.0</td>\n",
       "      <td>1.0</td>\n",
       "      <td>NaN</td>\n",
       "      <td>NaN</td>\n",
       "      <td>NaN</td>\n",
       "      <td>1.0</td>\n",
       "    </tr>\n",
       "    <tr>\n",
       "      <th>2</th>\n",
       "      <td>1</td>\n",
       "      <td>HeartUpMySleeves</td>\n",
       "      <td>1</td>\n",
       "      <td>3</td>\n",
       "      <td>20-Dec-21</td>\n",
       "      <td>4-Feb-22</td>\n",
       "      <td>20-Dec-21</td>\n",
       "      <td>Badlegi Business Ki Tasveer</td>\n",
       "      <td>Rannvijay Singh</td>\n",
       "      <td>Beauty/Fashion</td>\n",
       "      <td>...</td>\n",
       "      <td>NaN</td>\n",
       "      <td>Ashneer Grover</td>\n",
       "      <td>1.0</td>\n",
       "      <td>1.0</td>\n",
       "      <td>1.0</td>\n",
       "      <td>1.0</td>\n",
       "      <td>NaN</td>\n",
       "      <td>NaN</td>\n",
       "      <td>NaN</td>\n",
       "      <td>1.0</td>\n",
       "    </tr>\n",
       "    <tr>\n",
       "      <th>3</th>\n",
       "      <td>1</td>\n",
       "      <td>TagzFoods</td>\n",
       "      <td>2</td>\n",
       "      <td>4</td>\n",
       "      <td>20-Dec-21</td>\n",
       "      <td>4-Feb-22</td>\n",
       "      <td>21-Dec-21</td>\n",
       "      <td>Insaan, Ideas Aur Sapne</td>\n",
       "      <td>Rannvijay Singh</td>\n",
       "      <td>Food and Beverage</td>\n",
       "      <td>...</td>\n",
       "      <td>Ashneer Grover</td>\n",
       "      <td>Ashneer Grover</td>\n",
       "      <td>1.0</td>\n",
       "      <td>1.0</td>\n",
       "      <td>1.0</td>\n",
       "      <td>1.0</td>\n",
       "      <td>NaN</td>\n",
       "      <td>NaN</td>\n",
       "      <td>NaN</td>\n",
       "      <td>1.0</td>\n",
       "    </tr>\n",
       "    <tr>\n",
       "      <th>4</th>\n",
       "      <td>1</td>\n",
       "      <td>HeadAndHeart</td>\n",
       "      <td>2</td>\n",
       "      <td>5</td>\n",
       "      <td>20-Dec-21</td>\n",
       "      <td>4-Feb-22</td>\n",
       "      <td>21-Dec-21</td>\n",
       "      <td>Insaan, Ideas Aur Sapne</td>\n",
       "      <td>Rannvijay Singh</td>\n",
       "      <td>Children/Education</td>\n",
       "      <td>...</td>\n",
       "      <td>NaN</td>\n",
       "      <td>Ashneer Grover</td>\n",
       "      <td>1.0</td>\n",
       "      <td>1.0</td>\n",
       "      <td>1.0</td>\n",
       "      <td>1.0</td>\n",
       "      <td>NaN</td>\n",
       "      <td>NaN</td>\n",
       "      <td>NaN</td>\n",
       "      <td>1.0</td>\n",
       "    </tr>\n",
       "  </tbody>\n",
       "</table>\n",
       "<p>5 rows × 80 columns</p>\n",
       "</div>"
      ],
      "text/plain": [
       "   Season Number      Startup Name  Episode Number  Pitch Number Season Start  \\\n",
       "0              1     BluePineFoods               1             1    20-Dec-21   \n",
       "1              1      BoozScooters               1             2    20-Dec-21   \n",
       "2              1  HeartUpMySleeves               1             3    20-Dec-21   \n",
       "3              1         TagzFoods               2             4    20-Dec-21   \n",
       "4              1      HeadAndHeart               2             5    20-Dec-21   \n",
       "\n",
       "  Season End Original Air Date                Episode Title           Anchor  \\\n",
       "0   4-Feb-22         20-Dec-21  Badlegi Business Ki Tasveer  Rannvijay Singh   \n",
       "1   4-Feb-22         20-Dec-21  Badlegi Business Ki Tasveer  Rannvijay Singh   \n",
       "2   4-Feb-22         20-Dec-21  Badlegi Business Ki Tasveer  Rannvijay Singh   \n",
       "3   4-Feb-22         21-Dec-21      Insaan, Ideas Aur Sapne  Rannvijay Singh   \n",
       "4   4-Feb-22         21-Dec-21      Insaan, Ideas Aur Sapne  Rannvijay Singh   \n",
       "\n",
       "                       Industry  ... Invested Guest Name All Guest Names  \\\n",
       "0             Food and Beverage  ...      Ashneer Grover  Ashneer Grover   \n",
       "1  Vehicles/Electrical Vehicles  ...      Ashneer Grover  Ashneer Grover   \n",
       "2                Beauty/Fashion  ...                 NaN  Ashneer Grover   \n",
       "3             Food and Beverage  ...      Ashneer Grover  Ashneer Grover   \n",
       "4            Children/Education  ...                 NaN  Ashneer Grover   \n",
       "\n",
       "   Namita Present  Vineeta Present  Anupam Present  Aman Present  \\\n",
       "0             1.0              1.0             1.0           1.0   \n",
       "1             1.0              1.0             1.0           1.0   \n",
       "2             1.0              1.0             1.0           1.0   \n",
       "3             1.0              1.0             1.0           1.0   \n",
       "4             1.0              1.0             1.0           1.0   \n",
       "\n",
       "   Peyush Present  Ritesh Present Amit Present Guest Present  \n",
       "0             NaN             NaN          NaN           1.0  \n",
       "1             NaN             NaN          NaN           1.0  \n",
       "2             NaN             NaN          NaN           1.0  \n",
       "3             NaN             NaN          NaN           1.0  \n",
       "4             NaN             NaN          NaN           1.0  \n",
       "\n",
       "[5 rows x 80 columns]"
      ]
     },
     "execution_count": 8,
     "metadata": {},
     "output_type": "execute_result"
    }
   ],
   "source": [
    "# Read CSV\n",
    "df_shark = pd.read_csv('Shark Tank India.csv', encoding='utf-8')\n",
    "df_shark.head()"
   ]
  },
  {
   "cell_type": "code",
   "execution_count": 9,
   "id": "798f5fe1-a745-4d0e-9755-c11fdea8ae10",
   "metadata": {},
   "outputs": [
    {
     "name": "stdout",
     "output_type": "stream",
     "text": [
      "(634, 80)\n",
      "   Season Number      Startup Name  Episode Number  Pitch Number Season Start  \\\n",
      "0              1     BluePineFoods               1             1    20-Dec-21   \n",
      "1              1      BoozScooters               1             2    20-Dec-21   \n",
      "2              1  HeartUpMySleeves               1             3    20-Dec-21   \n",
      "3              1         TagzFoods               2             4    20-Dec-21   \n",
      "4              1      HeadAndHeart               2             5    20-Dec-21   \n",
      "\n",
      "  Season End Original Air Date                Episode Title           Anchor  \\\n",
      "0   4-Feb-22         20-Dec-21  Badlegi Business Ki Tasveer  Rannvijay Singh   \n",
      "1   4-Feb-22         20-Dec-21  Badlegi Business Ki Tasveer  Rannvijay Singh   \n",
      "2   4-Feb-22         20-Dec-21  Badlegi Business Ki Tasveer  Rannvijay Singh   \n",
      "3   4-Feb-22         21-Dec-21      Insaan, Ideas Aur Sapne  Rannvijay Singh   \n",
      "4   4-Feb-22         21-Dec-21      Insaan, Ideas Aur Sapne  Rannvijay Singh   \n",
      "\n",
      "                       Industry  ... Invested Guest Name All Guest Names  \\\n",
      "0             Food and Beverage  ...      Ashneer Grover  Ashneer Grover   \n",
      "1  Vehicles/Electrical Vehicles  ...      Ashneer Grover  Ashneer Grover   \n",
      "2                Beauty/Fashion  ...                 NaN  Ashneer Grover   \n",
      "3             Food and Beverage  ...      Ashneer Grover  Ashneer Grover   \n",
      "4            Children/Education  ...                 NaN  Ashneer Grover   \n",
      "\n",
      "   Namita Present  Vineeta Present  Anupam Present  Aman Present  \\\n",
      "0             1.0              1.0             1.0           1.0   \n",
      "1             1.0              1.0             1.0           1.0   \n",
      "2             1.0              1.0             1.0           1.0   \n",
      "3             1.0              1.0             1.0           1.0   \n",
      "4             1.0              1.0             1.0           1.0   \n",
      "\n",
      "   Peyush Present  Ritesh Present Amit Present Guest Present  \n",
      "0             NaN             NaN          NaN           1.0  \n",
      "1             NaN             NaN          NaN           1.0  \n",
      "2             NaN             NaN          NaN           1.0  \n",
      "3             NaN             NaN          NaN           1.0  \n",
      "4             NaN             NaN          NaN           1.0  \n",
      "\n",
      "[5 rows x 80 columns]\n"
     ]
    }
   ],
   "source": [
    "# Basic shape and head\n",
    "print(df_shark.shape)\n",
    "print(df_shark.head())"
   ]
  },
  {
   "cell_type": "code",
   "execution_count": 10,
   "id": "6ca688c1-29d8-4efa-823d-022499f0db22",
   "metadata": {},
   "outputs": [
    {
     "name": "stdout",
     "output_type": "stream",
     "text": [
      "634\n",
      "[1, 2, 3, 4]\n",
      "53\n",
      "634\n",
      "0.667192429022082\n",
      "0.851063829787234\n",
      "26284.91356\n",
      "1250.0\n"
     ]
    }
   ],
   "source": [
    "# Normalize some key columns to numeric where relevant\n",
    "num_cols = [\n",
    "    'Original Ask Amount','Original Offered Equity','Valuation Requested','Total Deal Amount','Total Deal Equity',\n",
    "    'Total Deal Debt','Debt Interest','Deal Valuation','Number of Sharks in Deal','Royalty Percentage','Royalty Recouped Amount',\n",
    "    'Yearly Revenue','Monthly Sales','Gross Margin','Net Margin','EBITDA','Cash Burn','SKUs',\n",
    "    'Namita Investment Amount','Vineeta Investment Amount','Anupam Investment Amount','Aman Investment Amount','Peyush Investment Amount','Ritesh Investment Amount','Amit Investment Amount','Guest Investment Amount'\n",
    "]\n",
    "for c in num_cols:\n",
    "    if c in df_shark.columns:\n",
    "        df_shark[c] = pd.to_numeric(df_shark[c], errors='coerce')\n",
    "\n",
    "# High-level metrics\n",
    "n_rows = len(df_shark)\n",
    "seasons = sorted(df_shark['Season Number'].dropna().unique().tolist()) if 'Season Number' in df_shark.columns else []\n",
    "unique_episodes = df_shark['Episode Number'].nunique() if 'Episode Number' in df_shark.columns else np.nan\n",
    "pitches = df_shark['Pitch Number'].nunique() if 'Pitch Number' in df_shark.columns else np.nan\n",
    "received_offer_rate = None\n",
    "if 'Received Offer' in df_shark.columns:\n",
    "    received_offer_rate = df_shark['Received Offer'].dropna().mean()\n",
    "accepted_deal_rate = None\n",
    "if 'Accepted Offer' in df_shark.columns:\n",
    "    accepted_deal_rate = df_shark['Accepted Offer'].dropna().mean()\n",
    "\n",
    "total_invested = df_shark['Total Deal Amount'].sum(skipna=True) if 'Total Deal Amount' in df_shark.columns else np.nan\n",
    "median_valuation = df_shark['Deal Valuation'].median(skipna=True) if 'Deal Valuation' in df_shark.columns else np.nan\n",
    "\n",
    "print(n_rows)\n",
    "print(seasons)\n",
    "print(unique_episodes)\n",
    "print(pitches)\n",
    "print(received_offer_rate)\n",
    "print(accepted_deal_rate)\n",
    "print(total_invested)\n",
    "print(median_valuation)\n",
    "\n",
    "\n"
   ]
  },
  {
   "cell_type": "code",
   "execution_count": 11,
   "id": "23e4f04d-7667-482b-9741-12337d7ec19f",
   "metadata": {},
   "outputs": [
    {
     "name": "stdout",
     "output_type": "stream",
     "text": [
      "Industry\n",
      "Food and Beverage               142\n",
      "Beauty/Fashion                  127\n",
      "Technology/Software              58\n",
      "Medical/Health                   56\n",
      "Manufacturing                    52\n",
      "Lifestyle/Home                   43\n",
      "Business Services                42\n",
      "Children/Education               25\n",
      "Vehicles/Electrical Vehicles     20\n",
      "Fitness/Sports/Outdoors          19\n",
      "Name: count, dtype: int64\n"
     ]
    }
   ],
   "source": [
    "# Top industries by count\n",
    "top_industries = pd.Series(dtype='int')\n",
    "if 'Industry' in df_shark.columns:\n",
    "    top_industries = df_shark['Industry'].value_counts().head(10)\n",
    "print(top_industries)\n"
   ]
  },
  {
   "cell_type": "code",
   "execution_count": 12,
   "id": "fd538c99-5e2f-4157-8777-05169a796479",
   "metadata": {},
   "outputs": [
    {
     "name": "stdout",
     "output_type": "stream",
     "text": [
      "Aman       140\n",
      "Namita     114\n",
      "Peyush     103\n",
      "Anupam     101\n",
      "Vineeta     89\n",
      "Guest       63\n",
      "Ritesh      52\n",
      "Amit        35\n",
      "dtype: int64\n"
     ]
    }
   ],
   "source": [
    "# Shark participation counts: count of investments per shark\n",
    "shark_amount_cols = [\n",
    "    ('Namita Investment Amount','Namita'),\n",
    "    ('Vineeta Investment Amount','Vineeta'),\n",
    "    ('Anupam Investment Amount','Anupam'),\n",
    "    ('Aman Investment Amount','Aman'),\n",
    "    ('Peyush Investment Amount','Peyush'),\n",
    "    ('Ritesh Investment Amount','Ritesh'),\n",
    "    ('Amit Investment Amount','Amit'),\n",
    "    ('Guest Investment Amount','Guest')\n",
    "]\n",
    "participation = {}\n",
    "for col, name in shark_amount_cols:\n",
    "    if col in df_shark.columns:\n",
    "        participation[name] = (df_shark[col].fillna(0) > 0).sum()\n",
    "\n",
    "participation_series = pd.Series(participation).sort_values(ascending=False)\n",
    "print(participation_series)\n",
    "\n",
    "\n"
   ]
  },
  {
   "cell_type": "code",
   "execution_count": 13,
   "id": "9be7fc9a-39ba-4226-a4e6-6b4f13c95cb3",
   "metadata": {},
   "outputs": [
    {
     "name": "stderr",
     "output_type": "stream",
     "text": [
      "C:\\Users\\kkjeg\\AppData\\Local\\Temp\\ipykernel_6764\\1492733257.py:4: FutureWarning: \n",
      "\n",
      "Passing `palette` without assigning `hue` is deprecated and will be removed in v0.14.0. Assign the `y` variable to `hue` and set `legend=False` for the same effect.\n",
      "\n",
      "  sns.barplot(x=top_industries.values, y=top_industries.index, orient='h', palette='viridis')\n"
     ]
    },
    {
     "data": {
      "image/png": "[encoded data removed]",
      "text/plain": [
       "<Figure size 800x400 with 1 Axes>"
      ]
     },
     "metadata": {},
     "output_type": "display_data"
    }
   ],
   "source": [
    "# Plot 1: Top industries\n",
    "if not top_industries.empty:\n",
    "    plt.figure(figsize=(8,4))\n",
    "    sns.barplot(x=top_industries.values, y=top_industries.index, orient='h', palette='viridis')\n",
    "    plt.title('Top Industries by Pitch Count')\n",
    "    plt.xlabel('Count')\n",
    "    plt.ylabel('Industry')\n",
    "    plt.tight_layout()\n",
    "    plt.show()"
   ]
  },
  {
   "cell_type": "code",
   "execution_count": 14,
   "id": "b8b54c54-0973-4107-b6ba-c67f30499d69",
   "metadata": {},
   "outputs": [
    {
     "name": "stderr",
     "output_type": "stream",
     "text": [
      "C:\\Users\\kkjeg\\AppData\\Local\\Temp\\ipykernel_6764\\1645072389.py:4: FutureWarning: \n",
      "\n",
      "Passing `palette` without assigning `hue` is deprecated and will be removed in v0.14.0. Assign the `x` variable to `hue` and set `legend=False` for the same effect.\n",
      "\n",
      "  sns.barplot(x=participation_series.index, y=participation_series.values, palette='magma')\n"
     ]
    },
    {
     "data": {
      "image/png": "[encoded data removed]",
      "text/plain": [
       "<Figure size 800x400 with 1 Axes>"
      ]
     },
     "metadata": {},
     "output_type": "display_data"
    }
   ],
   "source": [
    "# Plot 2: Investment participation by shark\n",
    "if len(participation_series) > 0:\n",
    "    plt.figure(figsize=(8,4))\n",
    "    sns.barplot(x=participation_series.index, y=participation_series.values, palette='magma')\n",
    "    plt.title('Number of Deals Participated In')\n",
    "    plt.xlabel('Shark')\n",
    "    plt.ylabel('Deals')\n",
    "    plt.tight_layout()\n",
    "    plt.show()\n",
    "\n"
   ]
  },
  {
   "cell_type": "code",
   "execution_count": 15,
   "id": "21e6b892-6815-40c2-843d-c7ea7bcc4e4f",
   "metadata": {},
   "outputs": [
    {
     "data": {
      "image/png": "[encoded data removed]",
      "text/plain": [
       "<Figure size 800x400 with 1 Axes>"
      ]
     },
     "metadata": {},
     "output_type": "display_data"
    },
    {
     "name": "stdout",
     "output_type": "stream",
     "text": [
      "Loaded data, computed summaries, and plotted key charts\n"
     ]
    }
   ],
   "source": [
    "# Plot 3: Deal amounts distribution\n",
    "if 'Total Deal Amount' in df_shark.columns and df_shark['Total Deal Amount'].notna().sum() > 0:\n",
    "    plt.figure(figsize=(8,4))\n",
    "    sns.histplot(df_shark['Total Deal Amount'].dropna(), bins=30, kde=True, color='steelblue')\n",
    "    plt.title('Distribution of Total Deal Amounts')\n",
    "    plt.xlabel('Total Deal Amount (Lakhs)')\n",
    "    plt.ylabel('Frequency')\n",
    "    plt.tight_layout()\n",
    "    plt.show()\n",
    "\n",
    "print('Loaded data, computed summaries, and plotted key charts')"
   ]
  }
 ],
 "metadata": {
  "kernelspec": {
   "display_name": "Python 3 (ipykernel)",
   "language": "python",
   "name": "python3"
  },
  "language_info": {
   "codemirror_mode": {
    "name": "ipython",
    "version": 3
   },
   "file_extension": ".py",
   "mimetype": "text/x-python",
   "name": "python",
   "nbconvert_exporter": "python",
   "pygments_lexer": "ipython3",
   "version": "3.13.5"
  }
 },
 "nbformat": 4,
 "nbformat_minor": 5
}
